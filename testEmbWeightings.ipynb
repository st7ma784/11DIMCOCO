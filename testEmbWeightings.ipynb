{
 "cells": [
  {
   "cell_type": "code",
   "execution_count": null,
   "metadata": {},
   "outputs": [],
   "source": []
  },
  {
   "attachments": {},
   "cell_type": "markdown",
   "metadata": {},
   "source": [
    "This notebook is dedicated to working out a weighting for a sum.\n",
    "\n",
    "The sum is in the form of inputs, of shape n*B*F. However, n is composed of multiple encoders (e0,e1,e2), each of which has a different number of inputs. The total adds to n. \n",
    "\n",
    "the final set of logits is calculated by summing the Inputs @ inputs. therefore we need to weight each encoder's inputs by the number of inputs it has, such that each contributs equally to the final sum of n*n logits.\n",
    "\n",
    "The weighting is calculated as follows:\n",
    "\n",
    "I think the weight for each region of the graph is the n/len(e)\n",
    "    \n",
    "    where n is the total number of inputs, and len(e) is the number of inputs for that encoder. This means that the regions of each encoder: e0, e1, e2, will be weighted n^2 each. \n"
   ]
  },
  {
   "cell_type": "code",
   "execution_count": null,
   "metadata": {},
   "outputs": [],
   "source": []
  }
 ],
 "metadata": {
  "language_info": {
   "name": "python"
  },
  "orig_nbformat": 4
 },
 "nbformat": 4,
 "nbformat_minor": 2
}
